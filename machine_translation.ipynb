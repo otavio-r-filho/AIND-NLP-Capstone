{
 "cells": [
  {
   "cell_type": "markdown",
   "metadata": {
    "collapsed": true
   },
   "source": [
    "# Artificial Intelligence Nanodegree\n",
    "## Machine Translation Project\n",
    "In this notebook, sections that end with **'(IMPLEMENTATION)'** in the header indicate that the following blocks of code will require additional functionality which you must provide. Please be sure to read the instructions carefully!\n",
    "\n",
    "## Introduction\n",
    "In this notebook, you will build a deep neural network that functions as part of an end-to-end machine translation pipeline. Your completed pipeline will accept English text as input and return the French translation.\n",
    "\n",
    "- **Preprocess** - You'll convert text to sequence of integers.\n",
    "- **Models** Create models which accepts a sequence of integers as input and returns a probability distribution over possible translations. After learning about the basic types of neural networks that are often used for machine translation, you will engage in your own investigations, to design your own model!\n",
    "- **Prediction** Run the model on English text.\n",
    "\n",
    "## Dataset\n",
    "We begin by investigating the dataset that will be used to train and evaluate your pipeline.  The most common datasets used for machine translation are from [WMT](http://www.statmt.org/).  However, that will take a long time to train a neural network on.  We'll be using a dataset we created for this project that contains a small vocabulary.  You'll be able to train your model in a reasonable time with this dataset.\n",
    "### Load Data\n",
    "The data is located in `data/small_vocab_en` and `data/small_vocab_fr`. The `small_vocab_en` file contains English sentences with their French translations in the `small_vocab_fr` file. Load the English and French data from these files from running the cell below."
   ]
  },
  {
   "cell_type": "code",
   "execution_count": 1,
   "metadata": {},
   "outputs": [
    {
     "name": "stdout",
     "output_type": "stream",
     "text": [
      "Dataset Loaded\n"
     ]
    }
   ],
   "source": [
    "import helper\n",
    "\n",
    "# Load English data\n",
    "english_sentences = helper.load_data('data/small_vocab_en')\n",
    "# Load French data\n",
    "french_sentences = helper.load_data('data/small_vocab_fr')\n",
    "\n",
    "print('Dataset Loaded')"
   ]
  },
  {
   "cell_type": "markdown",
   "metadata": {},
   "source": [
    "### Files\n",
    "Each line in `small_vocab_en` contains an English sentence with the respective translation in each line of `small_vocab_fr`.  View the first two lines from each file."
   ]
  },
  {
   "cell_type": "code",
   "execution_count": 2,
   "metadata": {},
   "outputs": [
    {
     "name": "stdout",
     "output_type": "stream",
     "text": [
      "small_vocab_en Line 1:  new jersey is sometimes quiet during autumn , and it is snowy in april .\n",
      "small_vocab_fr Line 1:  new jersey est parfois calme pendant l' automne , et il est neigeux en avril .\n",
      "small_vocab_en Line 2:  the united states is usually chilly during july , and it is usually freezing in november .\n",
      "small_vocab_fr Line 2:  les états-unis est généralement froid en juillet , et il gèle habituellement en novembre .\n"
     ]
    }
   ],
   "source": [
    "for sample_i in range(2):\n",
    "    print('small_vocab_en Line {}:  {}'.format(sample_i + 1, english_sentences[sample_i]))\n",
    "    print('small_vocab_fr Line {}:  {}'.format(sample_i + 1, french_sentences[sample_i]))"
   ]
  },
  {
   "cell_type": "markdown",
   "metadata": {},
   "source": [
    "From looking at the sentences, you can see they have been preprocessed already.  The puncuations have been delimited using spaces. All the text have been converted to lowercase.  This should save you some time, but the text requires more preprocessing.\n",
    "### Vocabulary\n",
    "The complexity of the problem is determined by the complexity of the vocabulary.  A more complex vocabulary is a more complex problem.  Let's look at the complexity of the dataset we'll be working with."
   ]
  },
  {
   "cell_type": "code",
   "execution_count": 3,
   "metadata": {},
   "outputs": [
    {
     "name": "stdout",
     "output_type": "stream",
     "text": [
      "1823250 English words.\n",
      "227 unique English words.\n",
      "10 Most common words in the English dataset:\n",
      "\"is\" \",\" \".\" \"in\" \"it\" \"during\" \"the\" \"but\" \"and\" \"sometimes\"\n",
      "\n",
      "1961295 French words.\n",
      "355 unique French words.\n",
      "10 Most common words in the French dataset:\n",
      "\"est\" \".\" \",\" \"en\" \"il\" \"les\" \"mais\" \"et\" \"la\" \"parfois\"\n"
     ]
    }
   ],
   "source": [
    "import collections\n",
    "\n",
    "\n",
    "english_words_counter = collections.Counter([word for sentence in english_sentences for word in sentence.split()])\n",
    "french_words_counter = collections.Counter([word for sentence in french_sentences for word in sentence.split()])\n",
    "\n",
    "print('{} English words.'.format(len([word for sentence in english_sentences for word in sentence.split()])))\n",
    "print('{} unique English words.'.format(len(english_words_counter)))\n",
    "print('10 Most common words in the English dataset:')\n",
    "print('\"' + '\" \"'.join(list(zip(*english_words_counter.most_common(10)))[0]) + '\"')\n",
    "print()\n",
    "print('{} French words.'.format(len([word for sentence in french_sentences for word in sentence.split()])))\n",
    "print('{} unique French words.'.format(len(french_words_counter)))\n",
    "print('10 Most common words in the French dataset:')\n",
    "print('\"' + '\" \"'.join(list(zip(*french_words_counter.most_common(10)))[0]) + '\"')"
   ]
  },
  {
   "cell_type": "markdown",
   "metadata": {},
   "source": [
    "For comparison, _Alice's Adventures in Wonderland_ contains 2,766 unique words of a total of 15,500 words.\n",
    "## Preprocess\n",
    "For this project, you won't use text data as input to your model. Instead, you'll convert the text into sequences of integers using the following preprocess methods:\n",
    "1. Tokenize the words into ids\n",
    "2. Add padding to make all the sequences the same length.\n",
    "\n",
    "Time to start preprocessing the data...\n",
    "### Tokenize (IMPLEMENTATION)\n",
    "For a neural network to predict on text data, it first has to be turned into data it can understand. Text data like \"dog\" is a sequence of ASCII character encodings.  Since a neural network is a series of multiplication and addition operations, the input data needs to be number(s).\n",
    "\n",
    "We can turn each character into a number or each word into a number.  These are called character and word ids, respectively.  Character ids are used for character level models that generate text predictions for each character.  A word level model uses word ids that generate text predictions for each word.  Word level models tend to learn better, since they are lower in complexity, so we'll use those.\n",
    "\n",
    "Turn each sentence into a sequence of words ids using Keras's [`Tokenizer`](https://keras.io/preprocessing/text/#tokenizer) function. Use this function to tokenize `english_sentences` and `french_sentences` in the cell below.\n",
    "\n",
    "Running the cell will run `tokenize` on sample data and show output for debugging."
   ]
  },
  {
   "cell_type": "code",
   "execution_count": 4,
   "metadata": {},
   "outputs": [
    {
     "name": "stderr",
     "output_type": "stream",
     "text": [
      "Using TensorFlow backend.\n"
     ]
    },
    {
     "name": "stdout",
     "output_type": "stream",
     "text": [
      "{'fox': 5, 'a': 3, 'my': 12, 'lexicography': 15, 'quick': 2, 'won': 16, 'jove': 11, 'lazy': 8, 'is': 19, 'the': 1, 'over': 7, 'this': 18, 'study': 13, 'sentence': 21, 'jumps': 6, 'by': 10, 'of': 14, 'dog': 9, 'short': 20, 'brown': 4, 'prize': 17}\n",
      "\n",
      "Sequence 1 in x\n",
      "  Input:  The quick brown fox jumps over the lazy dog .\n",
      "  Output: [1, 2, 4, 5, 6, 7, 1, 8, 9]\n",
      "Sequence 2 in x\n",
      "  Input:  By Jove , my quick study of lexicography won a prize .\n",
      "  Output: [10, 11, 12, 2, 13, 14, 15, 16, 3, 17]\n",
      "Sequence 3 in x\n",
      "  Input:  This is a short sentence .\n",
      "  Output: [18, 19, 3, 20, 21]\n"
     ]
    }
   ],
   "source": [
    "import project_tests as tests\n",
    "from keras.preprocessing.text import Tokenizer\n",
    "\n",
    "\n",
    "def tokenize(x):\n",
    "    \"\"\"\n",
    "    Tokenize x\n",
    "    :param x: List of sentences/strings to be tokenized\n",
    "    :return: Tuple of (tokenized x data, tokenizer used to tokenize x)\n",
    "    \"\"\"\n",
    "    # TODO: Implement\n",
    "    tokenizer = Tokenizer()\n",
    "    tokenizer.fit_on_texts(x)\n",
    "    sequences = tokenizer.texts_to_sequences(x)\n",
    "    return sequences, tokenizer\n",
    "tests.test_tokenize(tokenize)\n",
    "\n",
    "# Tokenize Example output\n",
    "text_sentences = [\n",
    "    'The quick brown fox jumps over the lazy dog .',\n",
    "    'By Jove , my quick study of lexicography won a prize .',\n",
    "    'This is a short sentence .']\n",
    "text_tokenized, text_tokenizer = tokenize(text_sentences)\n",
    "print(text_tokenizer.word_index)\n",
    "print()\n",
    "for sample_i, (sent, token_sent) in enumerate(zip(text_sentences, text_tokenized)):\n",
    "    print('Sequence {} in x'.format(sample_i + 1))\n",
    "    print('  Input:  {}'.format(sent))\n",
    "    print('  Output: {}'.format(token_sent))"
   ]
  },
  {
   "cell_type": "markdown",
   "metadata": {},
   "source": [
    "### Padding (IMPLEMENTATION)\n",
    "When batching the sequence of word ids together, each sequence needs to be the same length.  Since sentences are dynamic in length, we can add padding to the end of the sequences to make them the same length.\n",
    "\n",
    "Make sure all the English sequences have the same length and all the French sequences have the same length by adding padding to the **end** of each sequence using Keras's [`pad_sequences`](https://keras.io/preprocessing/sequence/#pad_sequences) function."
   ]
  },
  {
   "cell_type": "code",
   "execution_count": 5,
   "metadata": {},
   "outputs": [
    {
     "name": "stdout",
     "output_type": "stream",
     "text": [
      "Sequence 1 in x\n",
      "  Input:  [1 2 4 5 6 7 1 8 9]\n",
      "  Output: [1 2 4 5 6 7 1 8 9 0]\n",
      "Sequence 2 in x\n",
      "  Input:  [10 11 12  2 13 14 15 16  3 17]\n",
      "  Output: [10 11 12  2 13 14 15 16  3 17]\n",
      "Sequence 3 in x\n",
      "  Input:  [18 19  3 20 21]\n",
      "  Output: [18 19  3 20 21  0  0  0  0  0]\n"
     ]
    }
   ],
   "source": [
    "import numpy as np\n",
    "from keras.preprocessing.sequence import pad_sequences\n",
    "\n",
    "def pad(x, length=None):\n",
    "    \"\"\"\n",
    "    Pad x\n",
    "    :param x: List of sequences.\n",
    "    :param length: Length to pad the sequence to.  If None, use length of longest sequence in x.\n",
    "    :return: Padded numpy array of sequences\n",
    "    \"\"\"\n",
    "    # TODO: Implement\n",
    "    return pad_sequences(x, maxlen=length, padding='post', truncating='post')\n",
    "\n",
    "tests.test_pad(pad)\n",
    "\n",
    "# Pad Tokenized output\n",
    "test_pad = pad(text_tokenized)\n",
    "for sample_i, (token_sent, pad_sent) in enumerate(zip(text_tokenized, test_pad)):\n",
    "    print('Sequence {} in x'.format(sample_i + 1))\n",
    "    print('  Input:  {}'.format(np.array(token_sent)))\n",
    "    print('  Output: {}'.format(pad_sent))"
   ]
  },
  {
   "cell_type": "markdown",
   "metadata": {},
   "source": [
    "### Preprocess Pipeline\n",
    "Your focus for this project is to build neural network architecture, so we won't ask you to create a preprocess pipeline.  Instead, we've provided you with the implementation of the `preprocess` function."
   ]
  },
  {
   "cell_type": "code",
   "execution_count": 6,
   "metadata": {},
   "outputs": [
    {
     "name": "stdout",
     "output_type": "stream",
     "text": [
      "Data Preprocessed\n"
     ]
    }
   ],
   "source": [
    "def preprocess(x, y):\n",
    "    \"\"\"\n",
    "    Preprocess x and y\n",
    "    :param x: Feature List of sentences\n",
    "    :param y: Label List of sentences\n",
    "    :return: Tuple of (Preprocessed x, Preprocessed y, x tokenizer, y tokenizer)\n",
    "    \"\"\"\n",
    "    preprocess_x, x_tk = tokenize(x)\n",
    "    preprocess_y, y_tk = tokenize(y)\n",
    "\n",
    "    preprocess_x = pad(preprocess_x)\n",
    "    preprocess_y = pad(preprocess_y)\n",
    "\n",
    "    # Keras's sparse_categorical_crossentropy function requires the labels to be in 3 dimensions\n",
    "    preprocess_y = preprocess_y.reshape(*preprocess_y.shape, 1)\n",
    "\n",
    "    return preprocess_x, preprocess_y, x_tk, y_tk\n",
    "\n",
    "preproc_english_sentences, preproc_french_sentences, english_tokenizer, french_tokenizer =\\\n",
    "    preprocess(english_sentences, french_sentences)\n",
    "\n",
    "print('Data Preprocessed')"
   ]
  },
  {
   "cell_type": "markdown",
   "metadata": {},
   "source": [
    "## Models\n",
    "In this section, you will experiment with various neural network architectures.\n",
    "You will begin by training four relatively simple architectures.\n",
    "- Model 1 is a simple RNN\n",
    "- Model 2 is a RNN with Embedding\n",
    "- Model 3 is a Bidirectional RNN\n",
    "- Model 4 is an optional Encoder-Decoder RNN\n",
    "\n",
    "After experimenting with the four simple architectures, you will construct a deeper architecture that is designed to outperform all four models.\n",
    "### Ids Back to Text\n",
    "The neural network will be translating the input to words ids, which isn't the final form we want.  We want the French translation.  The function `logits_to_text` will bridge the gab between the logits from the neural network to the French translation.  You'll be using this function to better understand the output of the neural network."
   ]
  },
  {
   "cell_type": "code",
   "execution_count": 7,
   "metadata": {},
   "outputs": [
    {
     "name": "stdout",
     "output_type": "stream",
     "text": [
      "`logits_to_text` function loaded.\n"
     ]
    }
   ],
   "source": [
    "def logits_to_text(logits, tokenizer):\n",
    "    \"\"\"\n",
    "    Turn logits from a neural network into text using the tokenizer\n",
    "    :param logits: Logits from a neural network\n",
    "    :param tokenizer: Keras Tokenizer fit on the labels\n",
    "    :return: String that represents the text of the logits\n",
    "    \"\"\"\n",
    "    index_to_words = {id: word for word, id in tokenizer.word_index.items()}\n",
    "    index_to_words[0] = '<PAD>'\n",
    "\n",
    "    return ' '.join([index_to_words[prediction] for prediction in np.argmax(logits, 1)])\n",
    "\n",
    "print('`logits_to_text` function loaded.')"
   ]
  },
  {
   "cell_type": "markdown",
   "metadata": {},
   "source": [
    "## ERASE THIS CODE BEFORE SUBMIT!"
   ]
  },
  {
   "cell_type": "code",
   "execution_count": 8,
   "metadata": {
    "collapsed": true
   },
   "outputs": [],
   "source": [
    "from keras.layers import GRU, Input, Dense, TimeDistributed, Embedding, Bidirectional, RepeatVector\n",
    "from keras.models import Model\n",
    "from keras.layers import Activation\n",
    "from keras.optimizers import Adam, RMSprop\n",
    "from keras.losses import sparse_categorical_crossentropy\n",
    "from keras.callbacks import ModelCheckpoint\n",
    "from keras.models import load_model\n",
    "import numpy as np\n",
    "from keras.preprocessing.sequence import pad_sequences"
   ]
  },
  {
   "cell_type": "markdown",
   "metadata": {},
   "source": [
    "### Model 1: RNN (IMPLEMENTATION)\n",
    "![RNN](images/rnn.png)\n",
    "A basic RNN model is a good baseline for sequence data.  In this model, you'll build a RNN that translates English to French."
   ]
  },
  {
   "cell_type": "code",
   "execution_count": 9,
   "metadata": {},
   "outputs": [
    {
     "name": "stdout",
     "output_type": "stream",
     "text": [
      "_________________________________________________________________\n",
      "Layer (type)                 Output Shape              Param #   \n",
      "=================================================================\n",
      "input_2 (InputLayer)         (None, 21, 1)             0         \n",
      "_________________________________________________________________\n",
      "gru_4 (GRU)                  (None, 21, 14)            672       \n",
      "_________________________________________________________________\n",
      "gru_5 (GRU)                  (None, 21, 28)            3612      \n",
      "_________________________________________________________________\n",
      "gru_6 (GRU)                  (None, 21, 56)            14280     \n",
      "_________________________________________________________________\n",
      "time_distributed_3 (TimeDist (None, 21, 545)           31065     \n",
      "_________________________________________________________________\n",
      "time_distributed_4 (TimeDist (None, 21, 345)           188370    \n",
      "=================================================================\n",
      "Total params: 237,999\n",
      "Trainable params: 237,999\n",
      "Non-trainable params: 0\n",
      "_________________________________________________________________\n",
      "Train on 110288 samples, validate on 27573 samples\n",
      "Epoch 1/60\n",
      "109568/110288 [============================>.] - ETA: 0s - loss: 2.3482 - acc: 0.4925Epoch 00000: val_loss improved from inf to 1.55995, saving model to simple_rnn_best_weights.hdf5\n",
      "110288/110288 [==============================] - 18s - loss: 2.3439 - acc: 0.4930 - val_loss: 1.5599 - val_acc: 0.5860\n",
      "Epoch 2/60\n",
      "109568/110288 [============================>.] - ETA: 0s - loss: 1.5557 - acc: 0.5814Epoch 00001: val_loss improved from 1.55995 to 1.35878, saving model to simple_rnn_best_weights.hdf5\n",
      "110288/110288 [==============================] - 14s - loss: 1.5549 - acc: 0.5815 - val_loss: 1.3588 - val_acc: 0.6115\n",
      "Epoch 3/60\n",
      "109568/110288 [============================>.] - ETA: 0s - loss: 1.3867 - acc: 0.6026Epoch 00002: val_loss improved from 1.35878 to 1.29202, saving model to simple_rnn_best_weights.hdf5\n",
      "110288/110288 [==============================] - 14s - loss: 1.3864 - acc: 0.6026 - val_loss: 1.2920 - val_acc: 0.6139\n",
      "Epoch 4/60\n",
      "109568/110288 [============================>.] - ETA: 0s - loss: 1.3071 - acc: 0.6150Epoch 00003: val_loss improved from 1.29202 to 1.29167, saving model to simple_rnn_best_weights.hdf5\n",
      "110288/110288 [==============================] - 14s - loss: 1.3069 - acc: 0.6150 - val_loss: 1.2917 - val_acc: 0.6147\n",
      "Epoch 5/60\n",
      "109568/110288 [============================>.] - ETA: 0s - loss: 1.2449 - acc: 0.6250Epoch 00004: val_loss did not improve\n",
      "110288/110288 [==============================] - 14s - loss: 1.2450 - acc: 0.6249 - val_loss: 1.3196 - val_acc: 0.6153\n",
      "Epoch 6/60\n",
      "109568/110288 [============================>.] - ETA: 0s - loss: 1.2137 - acc: 0.6308Epoch 00005: val_loss improved from 1.29167 to 1.26749, saving model to simple_rnn_best_weights.hdf5\n",
      "110288/110288 [==============================] - 14s - loss: 1.2134 - acc: 0.6309 - val_loss: 1.2675 - val_acc: 0.6173\n",
      "Epoch 7/60\n",
      "109568/110288 [============================>.] - ETA: 0s - loss: 1.1800 - acc: 0.6363Epoch 00006: val_loss did not improve\n",
      "110288/110288 [==============================] - 14s - loss: 1.1802 - acc: 0.6363 - val_loss: 1.3861 - val_acc: 0.6095\n",
      "Epoch 8/60\n",
      "109568/110288 [============================>.] - ETA: 0s - loss: 1.1591 - acc: 0.6392Epoch 00007: val_loss improved from 1.26749 to 1.24540, saving model to simple_rnn_best_weights.hdf5\n",
      "110288/110288 [==============================] - 14s - loss: 1.1591 - acc: 0.6392 - val_loss: 1.2454 - val_acc: 0.6200\n",
      "Epoch 9/60\n",
      "109568/110288 [============================>.] - ETA: 0s - loss: 1.1378 - acc: 0.6427Epoch 00008: val_loss did not improve\n",
      "110288/110288 [==============================] - 14s - loss: 1.1380 - acc: 0.6427 - val_loss: 1.6042 - val_acc: 0.5936\n",
      "Epoch 10/60\n",
      "109568/110288 [============================>.] - ETA: 0s - loss: 1.1240 - acc: 0.6454Epoch 00009: val_loss did not improve\n",
      "110288/110288 [==============================] - 14s - loss: 1.1238 - acc: 0.6454 - val_loss: 1.3136 - val_acc: 0.6121\n",
      "Epoch 11/60\n",
      "109568/110288 [============================>.] - ETA: 0s - loss: 1.1047 - acc: 0.6490Epoch 00010: val_loss improved from 1.24540 to 1.16466, saving model to simple_rnn_best_weights.hdf5\n",
      "110288/110288 [==============================] - 14s - loss: 1.1049 - acc: 0.6490 - val_loss: 1.1647 - val_acc: 0.6309\n",
      "Epoch 12/60\n",
      "109568/110288 [============================>.] - ETA: 0s - loss: 1.0896 - acc: 0.6523Epoch 00011: val_loss did not improve\n",
      "110288/110288 [==============================] - 14s - loss: 1.0895 - acc: 0.6523 - val_loss: 1.4967 - val_acc: 0.6024\n",
      "Epoch 13/60\n",
      "109568/110288 [============================>.] - ETA: 0s - loss: 1.0710 - acc: 0.6561Epoch 00012: val_loss did not improve\n",
      "110288/110288 [==============================] - 14s - loss: 1.0708 - acc: 0.6561 - val_loss: 1.3354 - val_acc: 0.6069\n",
      "Epoch 14/60\n",
      "109568/110288 [============================>.] - ETA: 0s - loss: 1.0542 - acc: 0.6591Epoch 00013: val_loss did not improve\n",
      "110288/110288 [==============================] - 14s - loss: 1.0542 - acc: 0.6590 - val_loss: 1.6018 - val_acc: 0.5856\n",
      "Epoch 15/60\n",
      "109568/110288 [============================>.] - ETA: 0s - loss: 1.0481 - acc: 0.6598Epoch 00014: val_loss did not improve\n",
      "110288/110288 [==============================] - 14s - loss: 1.0480 - acc: 0.6598 - val_loss: 1.7501 - val_acc: 0.5822\n",
      "Epoch 16/60\n",
      "109568/110288 [============================>.] - ETA: 0s - loss: 1.0261 - acc: 0.6646Epoch 00015: val_loss did not improve\n",
      "110288/110288 [==============================] - 14s - loss: 1.0260 - acc: 0.6646 - val_loss: 1.6780 - val_acc: 0.5835\n",
      "Epoch 17/60\n",
      "109568/110288 [============================>.] - ETA: 0s - loss: 1.0188 - acc: 0.6657Epoch 00016: val_loss did not improve\n",
      "110288/110288 [==============================] - 14s - loss: 1.0187 - acc: 0.6657 - val_loss: 1.6952 - val_acc: 0.5797\n",
      "Epoch 18/60\n",
      "109568/110288 [============================>.] - ETA: 0s - loss: 1.0084 - acc: 0.6677Epoch 00017: val_loss did not improve\n",
      "110288/110288 [==============================] - 14s - loss: 1.0083 - acc: 0.6677 - val_loss: 1.5103 - val_acc: 0.5951\n",
      "Epoch 19/60\n",
      "109568/110288 [============================>.] - ETA: 0s - loss: 0.9965 - acc: 0.6709Epoch 00018: val_loss did not improve\n",
      "110288/110288 [==============================] - 14s - loss: 0.9966 - acc: 0.6709 - val_loss: 1.5764 - val_acc: 0.5951\n",
      "Epoch 20/60\n",
      "109568/110288 [============================>.] - ETA: 0s - loss: 0.9872 - acc: 0.6729Epoch 00019: val_loss did not improve\n",
      "110288/110288 [==============================] - 14s - loss: 0.9870 - acc: 0.6730 - val_loss: 1.9202 - val_acc: 0.5627\n",
      "Epoch 21/60\n",
      "109568/110288 [============================>.] - ETA: 0s - loss: 0.9858 - acc: 0.6736Epoch 00020: val_loss did not improve\n",
      "110288/110288 [==============================] - 14s - loss: 0.9859 - acc: 0.6735 - val_loss: 1.8269 - val_acc: 0.5638\n",
      "Epoch 22/60\n",
      "109568/110288 [============================>.] - ETA: 0s - loss: 0.9762 - acc: 0.6756Epoch 00021: val_loss did not improve\n",
      "110288/110288 [==============================] - 14s - loss: 0.9758 - acc: 0.6757 - val_loss: 2.0913 - val_acc: 0.5642\n",
      "Epoch 23/60\n",
      "109568/110288 [============================>.] - ETA: 0s - loss: 0.9668 - acc: 0.6782Epoch 00022: val_loss did not improve\n",
      "110288/110288 [==============================] - 14s - loss: 0.9667 - acc: 0.6783 - val_loss: 2.0904 - val_acc: 0.5581\n",
      "Epoch 24/60\n",
      "109568/110288 [============================>.] - ETA: 0s - loss: 0.9591 - acc: 0.6805Epoch 00023: val_loss did not improve\n",
      "110288/110288 [==============================] - 14s - loss: 0.9590 - acc: 0.6805 - val_loss: 1.9615 - val_acc: 0.5575\n",
      "Epoch 25/60\n",
      "109568/110288 [============================>.] - ETA: 0s - loss: 0.9546 - acc: 0.6820Epoch 00024: val_loss did not improve\n",
      "110288/110288 [==============================] - 14s - loss: 0.9547 - acc: 0.6820 - val_loss: 1.7447 - val_acc: 0.5787\n",
      "Epoch 26/60\n",
      "109568/110288 [============================>.] - ETA: 0s - loss: 0.9550 - acc: 0.6829Epoch 00025: val_loss did not improve\n"
     ]
    },
    {
     "name": "stdout",
     "output_type": "stream",
     "text": [
      "110288/110288 [==============================] - 14s - loss: 0.9548 - acc: 0.6829 - val_loss: 2.0389 - val_acc: 0.5635\n",
      "Epoch 27/60\n",
      "109568/110288 [============================>.] - ETA: 0s - loss: 0.9343 - acc: 0.6892Epoch 00026: val_loss did not improve\n",
      "110288/110288 [==============================] - 14s - loss: 0.9343 - acc: 0.6892 - val_loss: 2.2535 - val_acc: 0.5532\n",
      "Epoch 28/60\n",
      "109568/110288 [============================>.] - ETA: 0s - loss: 0.9296 - acc: 0.6916Epoch 00027: val_loss did not improve\n",
      "110288/110288 [==============================] - 14s - loss: 0.9296 - acc: 0.6916 - val_loss: 2.1498 - val_acc: 0.5511\n",
      "Epoch 29/60\n",
      "109568/110288 [============================>.] - ETA: 0s - loss: 0.9311 - acc: 0.6926Epoch 00028: val_loss did not improve\n",
      "110288/110288 [==============================] - 14s - loss: 0.9311 - acc: 0.6927 - val_loss: 2.0756 - val_acc: 0.5632\n",
      "Epoch 30/60\n",
      "109568/110288 [============================>.] - ETA: 0s - loss: 0.9184 - acc: 0.6958Epoch 00029: val_loss did not improve\n",
      "110288/110288 [==============================] - 14s - loss: 0.9185 - acc: 0.6958 - val_loss: 1.7433 - val_acc: 0.5871\n",
      "Epoch 31/60\n",
      "109568/110288 [============================>.] - ETA: 0s - loss: 0.9330 - acc: 0.6917Epoch 00030: val_loss did not improve\n",
      "110288/110288 [==============================] - 14s - loss: 0.9331 - acc: 0.6917 - val_loss: 2.0756 - val_acc: 0.5551\n",
      "Epoch 32/60\n",
      "109568/110288 [============================>.] - ETA: 0s - loss: 0.9016 - acc: 0.7011Epoch 00031: val_loss did not improve\n",
      "110288/110288 [==============================] - 14s - loss: 0.9016 - acc: 0.7011 - val_loss: 2.0072 - val_acc: 0.5598\n",
      "Epoch 33/60\n",
      "109568/110288 [============================>.] - ETA: 0s - loss: 0.9072 - acc: 0.6996Epoch 00032: val_loss did not improve\n",
      "110288/110288 [==============================] - 14s - loss: 0.9077 - acc: 0.6995 - val_loss: 2.3302 - val_acc: 0.5460\n",
      "Epoch 34/60\n",
      "109568/110288 [============================>.] - ETA: 0s - loss: 0.9149 - acc: 0.6982Epoch 00033: val_loss did not improve\n",
      "110288/110288 [==============================] - 14s - loss: 0.9147 - acc: 0.6983 - val_loss: 1.9000 - val_acc: 0.5666\n",
      "Epoch 35/60\n",
      "109568/110288 [============================>.] - ETA: 0s - loss: 0.8929 - acc: 0.7046Epoch 00034: val_loss did not improve\n",
      "110288/110288 [==============================] - 14s - loss: 0.8929 - acc: 0.7046 - val_loss: 1.9347 - val_acc: 0.5701\n",
      "Epoch 36/60\n",
      "109568/110288 [============================>.] - ETA: 0s - loss: 0.9019 - acc: 0.7015Epoch 00035: val_loss did not improve\n",
      "110288/110288 [==============================] - 14s - loss: 0.9015 - acc: 0.7016 - val_loss: 2.1049 - val_acc: 0.5573\n",
      "Epoch 37/60\n",
      "109568/110288 [============================>.] - ETA: 0s - loss: 0.8986 - acc: 0.7018Epoch 00036: val_loss did not improve\n",
      "110288/110288 [==============================] - 14s - loss: 0.8983 - acc: 0.7019 - val_loss: 1.9946 - val_acc: 0.5641\n",
      "Epoch 38/60\n",
      "109568/110288 [============================>.] - ETA: 0s - loss: 0.8769 - acc: 0.7098Epoch 00037: val_loss did not improve\n",
      "110288/110288 [==============================] - 14s - loss: 0.8775 - acc: 0.7096 - val_loss: 2.3805 - val_acc: 0.5409\n",
      "Epoch 39/60\n",
      "109568/110288 [============================>.] - ETA: 0s - loss: 0.8892 - acc: 0.7057Epoch 00038: val_loss did not improve\n",
      "110288/110288 [==============================] - 14s - loss: 0.8895 - acc: 0.7056 - val_loss: 1.9947 - val_acc: 0.5645\n",
      "Epoch 40/60\n",
      "109568/110288 [============================>.] - ETA: 0s - loss: 0.8750 - acc: 0.7099Epoch 00039: val_loss did not improve\n",
      "110288/110288 [==============================] - 14s - loss: 0.8749 - acc: 0.7099 - val_loss: 2.1820 - val_acc: 0.5602\n",
      "Epoch 41/60\n",
      "109568/110288 [============================>.] - ETA: 0s - loss: 0.8689 - acc: 0.7125Epoch 00040: val_loss did not improve\n",
      "110288/110288 [==============================] - 14s - loss: 0.8689 - acc: 0.7125 - val_loss: 2.1990 - val_acc: 0.5573\n",
      "Epoch 42/60\n",
      "109568/110288 [============================>.] - ETA: 0s - loss: 0.8750 - acc: 0.7100Epoch 00041: val_loss did not improve\n",
      "110288/110288 [==============================] - 14s - loss: 0.8770 - acc: 0.7095 - val_loss: 2.2854 - val_acc: 0.5503\n",
      "Epoch 43/60\n",
      "109568/110288 [============================>.] - ETA: 0s - loss: 0.8873 - acc: 0.7077Epoch 00042: val_loss did not improve\n",
      "110288/110288 [==============================] - 14s - loss: 0.8870 - acc: 0.7077 - val_loss: 2.1507 - val_acc: 0.5650\n",
      "Epoch 44/60\n",
      "109568/110288 [============================>.] - ETA: 0s - loss: 0.8811 - acc: 0.7099Epoch 00043: val_loss did not improve\n",
      "110288/110288 [==============================] - 14s - loss: 0.8820 - acc: 0.7096 - val_loss: 2.1308 - val_acc: 0.5565\n",
      "Epoch 45/60\n",
      "109568/110288 [============================>.] - ETA: 0s - loss: 0.8749 - acc: 0.7101Epoch 00044: val_loss did not improve\n",
      "110288/110288 [==============================] - 14s - loss: 0.8747 - acc: 0.7102 - val_loss: 2.1872 - val_acc: 0.5562\n",
      "Epoch 46/60\n",
      "109568/110288 [============================>.] - ETA: 0s - loss: 0.8666 - acc: 0.7134Epoch 00045: val_loss did not improve\n",
      "110288/110288 [==============================] - 14s - loss: 0.8662 - acc: 0.7135 - val_loss: 2.3315 - val_acc: 0.5450\n",
      "Epoch 47/60\n",
      "109568/110288 [============================>.] - ETA: 0s - loss: 0.8819 - acc: 0.7110Epoch 00046: val_loss did not improve\n",
      "110288/110288 [==============================] - 14s - loss: 0.8818 - acc: 0.7110 - val_loss: 2.3333 - val_acc: 0.5581\n",
      "Epoch 48/60\n",
      "109568/110288 [============================>.] - ETA: 0s - loss: 0.8818 - acc: 0.7081Epoch 00047: val_loss did not improve\n",
      "110288/110288 [==============================] - 14s - loss: 0.8817 - acc: 0.7082 - val_loss: 2.2732 - val_acc: 0.5549\n",
      "Epoch 49/60\n",
      "109568/110288 [============================>.] - ETA: 0s - loss: 0.8525 - acc: 0.7168Epoch 00048: val_loss did not improve\n",
      "110288/110288 [==============================] - 14s - loss: 0.8529 - acc: 0.7166 - val_loss: 2.0481 - val_acc: 0.5656\n",
      "Epoch 50/60\n",
      "109568/110288 [============================>.] - ETA: 0s - loss: 0.8526 - acc: 0.7176Epoch 00049: val_loss did not improve\n",
      "110288/110288 [==============================] - 14s - loss: 0.8537 - acc: 0.7172 - val_loss: 2.4861 - val_acc: 0.5450\n",
      "Epoch 51/60\n",
      "109568/110288 [============================>.] - ETA: 0s - loss: 0.8647 - acc: 0.7117Epoch 00050: val_loss did not improve\n",
      "110288/110288 [==============================] - 14s - loss: 0.8645 - acc: 0.7118 - val_loss: 2.2358 - val_acc: 0.5538\n",
      "Epoch 52/60\n",
      "109568/110288 [============================>.] - ETA: 0s - loss: 0.8838 - acc: 0.7081Epoch 00051: val_loss did not improve\n",
      "110288/110288 [==============================] - 14s - loss: 0.8834 - acc: 0.7082 - val_loss: 2.2357 - val_acc: 0.5476\n",
      "Epoch 53/60\n",
      "109568/110288 [============================>.] - ETA: 0s - loss: 0.8474 - acc: 0.7173Epoch 00052: val_loss did not improve\n",
      "110288/110288 [==============================] - 14s - loss: 0.8472 - acc: 0.7174 - val_loss: 2.4710 - val_acc: 0.5382\n",
      "Epoch 54/60\n",
      "109568/110288 [============================>.] - ETA: 0s - loss: 0.8456 - acc: 0.7195Epoch 00053: val_loss did not improve\n",
      "110288/110288 [==============================] - 14s - loss: 0.8462 - acc: 0.7193 - val_loss: 1.9461 - val_acc: 0.5737\n",
      "Epoch 55/60\n",
      "109568/110288 [============================>.] - ETA: 0s - loss: 0.8774 - acc: 0.7092Epoch 00054: val_loss did not improve\n",
      "110288/110288 [==============================] - 14s - loss: 0.8775 - acc: 0.7091 - val_loss: 2.1497 - val_acc: 0.5616\n",
      "Epoch 56/60\n",
      "109568/110288 [============================>.] - ETA: 0s - loss: 0.8703 - acc: 0.7122Epoch 00055: val_loss did not improve\n",
      "110288/110288 [==============================] - 14s - loss: 0.8699 - acc: 0.7123 - val_loss: 2.2967 - val_acc: 0.5504\n",
      "Epoch 57/60\n",
      "109568/110288 [============================>.] - ETA: 0s - loss: 0.8474 - acc: 0.7179Epoch 00056: val_loss did not improve\n",
      "110288/110288 [==============================] - 14s - loss: 0.8470 - acc: 0.7180 - val_loss: 2.1846 - val_acc: 0.5564\n",
      "Epoch 58/60\n",
      "109568/110288 [============================>.] - ETA: 0s - loss: 0.8533 - acc: 0.7178Epoch 00057: val_loss did not improve\n"
     ]
    },
    {
     "name": "stdout",
     "output_type": "stream",
     "text": [
      "110288/110288 [==============================] - 14s - loss: 0.8529 - acc: 0.7179 - val_loss: 2.2961 - val_acc: 0.5568\n",
      "Epoch 59/60\n",
      "109568/110288 [============================>.] - ETA: 0s - loss: 0.8469 - acc: 0.7179Epoch 00058: val_loss did not improve\n",
      "110288/110288 [==============================] - 14s - loss: 0.8474 - acc: 0.7177 - val_loss: 2.1548 - val_acc: 0.5623\n",
      "Epoch 60/60\n",
      "109568/110288 [============================>.] - ETA: 0s - loss: 0.8523 - acc: 0.7168Epoch 00059: val_loss did not improve\n",
      "110288/110288 [==============================] - 14s - loss: 0.8524 - acc: 0.7167 - val_loss: 2.5325 - val_acc: 0.5406\n",
      "\n",
      "Loading best weights...\n",
      "Saving model for later use...\n",
      "paris jersey est parfois calme en mars de il est il en en en <PAD> <PAD> <PAD> <PAD> <PAD> <PAD> <PAD>\n"
     ]
    }
   ],
   "source": [
    "from keras.layers import GRU, Input, Dense, TimeDistributed\n",
    "from keras.models import Model\n",
    "from keras.layers import Activation\n",
    "from keras.optimizers import Adam\n",
    "from keras.losses import sparse_categorical_crossentropy\n",
    "\n",
    "\n",
    "def simple_model(input_shape, output_sequence_length, english_vocab_size, french_vocab_size):\n",
    "    \"\"\"\n",
    "    Build and train a basic RNN on x and y\n",
    "    :param input_shape: Tuple of input shape\n",
    "    :param output_sequence_length: Length of output sequence\n",
    "    :param english_vocab_size: Number of unique English words in the dataset\n",
    "    :param french_vocab_size: Number of unique French words in the dataset\n",
    "    :return: Keras model built, but not trained\n",
    "    \"\"\"\n",
    "    # TODO: Build the layers\n",
    "    \n",
    "    learning_rate = 0.01\n",
    "    \n",
    "    inputs = Input(shape=input_shape[1:])\n",
    "    gru0 = GRU(14, return_sequences=True, dropout=0.1)(inputs)\n",
    "    gru1 = GRU(28, return_sequences=True, dropout=0.2)(gru0)\n",
    "    gru2 = GRU(56, return_sequences=True, dropout=0.4)(gru1)\n",
    "    dense0 = TimeDistributed(Dense(english_vocab_size + french_vocab_size, activation='tanh'))(gru2)\n",
    "    logits = TimeDistributed(Dense(french_vocab_size, activation='softmax'))(dense0)\n",
    "    model = Model(inputs=inputs, outputs=logits)\n",
    "\n",
    "    model.compile(loss=sparse_categorical_crossentropy,\n",
    "                  optimizer=Adam(learning_rate),\n",
    "                  metrics=['accuracy'])\n",
    "    return model\n",
    "tests.test_simple_model(simple_model)\n",
    "\n",
    "\n",
    "# Reshaping the input to work with a basic RNN\n",
    "tmp_x = pad(preproc_english_sentences, preproc_french_sentences.shape[1])\n",
    "tmp_x = tmp_x.reshape((-1, preproc_french_sentences.shape[-2], 1))\n",
    "\n",
    "# Train the neural network\n",
    "simple_rnn_model = simple_model(\n",
    "    tmp_x.shape,\n",
    "    preproc_french_sentences.shape[1],\n",
    "    len(english_tokenizer.word_index) + 1, # Adding 1 to avoid tokenizer error\n",
    "    len(french_tokenizer.word_index) + 1)  # Adding 1 to the other tokenized vector\n",
    "\n",
    "simple_rnn_model.summary()\n",
    "\n",
    "best_weights_file = 'simple_rnn_best_weights.hdf5'\n",
    "model_file = 'simple_rnn.hdf5'\n",
    "\n",
    "checkpointer = ModelCheckpoint(filepath=best_weights_file, save_best_only=True, verbose=1)\n",
    "simple_rnn_model.fit(tmp_x, preproc_french_sentences,\n",
    "                     batch_size=1024, epochs=60,\n",
    "                     validation_split=0.2, shuffle=True,\n",
    "                     callbacks=[checkpointer])\n",
    "\n",
    "print()\n",
    "print('Loading best weights...')\n",
    "simple_rnn_model.load_weights(best_weights_file)\n",
    "\n",
    "print('Saving model for later use...')\n",
    "simple_rnn_model.save(model_file)\n",
    "\n",
    "# Print prediction(s)\n",
    "print(logits_to_text(simple_rnn_model.predict(tmp_x[:1])[0], french_tokenizer))"
   ]
  },
  {
   "cell_type": "code",
   "execution_count": 10,
   "metadata": {
    "collapsed": true
   },
   "outputs": [],
   "source": [
    "prediction = simple_rnn_model.predict(tmp_x[:1])"
   ]
  },
  {
   "cell_type": "code",
   "execution_count": 28,
   "metadata": {},
   "outputs": [
    {
     "data": {
      "text/plain": [
       "35"
      ]
     },
     "execution_count": 28,
     "metadata": {},
     "output_type": "execute_result"
    }
   ],
   "source": [
    "preproc_french_sentences[0][0,0]"
   ]
  },
  {
   "cell_type": "code",
   "execution_count": 35,
   "metadata": {},
   "outputs": [
    {
     "name": "stdout",
     "output_type": "stream",
     "text": [
      "Real sequence:\n",
      "new jersey est parfois calme pendant l' automne et il est neigeux en avril <PAD> <PAD> <PAD> <PAD> <PAD> <PAD> <PAD>\n",
      "\n",
      "Predicted sequence:\n",
      "paris jersey est parfois calme en mars de il est il en en en <PAD> <PAD> <PAD> <PAD> <PAD> <PAD> <PAD>\n"
     ]
    }
   ],
   "source": [
    "label_checker = np.zeros_like(prediction[0])\n",
    "for idx in range(label_checker.shape[0]):\n",
    "    label_checker[idx, preproc_french_sentences[0][idx,0]] = 1.0\n",
    "\n",
    "print('Real sequence:\\n{0}'.format(logits_to_text(label_checker, french_tokenizer)))\n",
    "print()\n",
    "print('Predicted sequence:\\n{0}'.format(logits_to_text(prediction[0], french_tokenizer)))"
   ]
  },
  {
   "cell_type": "markdown",
   "metadata": {},
   "source": [
    "### Model 2: Embedding (IMPLEMENTATION)\n",
    "![RNN](images/embedding.png)\n",
    "You've turned the words into ids, but there's a better representation of a word.  This is called word embeddings.  An embedding is a vector representation of the word that is close to similar words in n-dimensional space, where the n represents the size of the embedding vectors.\n",
    "\n",
    "In this model, you'll create a RNN model using embedding."
   ]
  },
  {
   "cell_type": "code",
   "execution_count": 19,
   "metadata": {},
   "outputs": [
    {
     "name": "stdout",
     "output_type": "stream",
     "text": [
      "[[ 35]\n",
      " [ 34]\n",
      " [  1]\n",
      " [  8]\n",
      " [ 67]\n",
      " [ 37]\n",
      " [ 11]\n",
      " [ 24]\n",
      " [  6]\n",
      " [  3]\n",
      " [  1]\n",
      " [112]\n",
      " [  2]\n",
      " [ 50]\n",
      " [  0]\n",
      " [  0]\n",
      " [  0]\n",
      " [  0]\n",
      " [  0]\n",
      " [  0]\n",
      " [  0]]\n",
      "Real sentence:<PAD> <PAD> <PAD> <PAD> <PAD> <PAD> <PAD> <PAD> <PAD> <PAD> <PAD> <PAD> <PAD> <PAD> <PAD> <PAD> <PAD> <PAD> <PAD> <PAD> <PAD>\n"
     ]
    }
   ],
   "source": [
    "# print('Real text:{0}'logits_to_text(preproc_french_sentences))\n",
    "print(preproc_french_sentences[:1][0])\n",
    "print('Real sentence:{0}'.format(logits_to_text(preproc_french_sentences[:1][0], french_tokenizer)))"
   ]
  },
  {
   "cell_type": "code",
   "execution_count": null,
   "metadata": {},
   "outputs": [
    {
     "name": "stdout",
     "output_type": "stream",
     "text": [
      "_________________________________________________________________\n",
      "Layer (type)                 Output Shape              Param #   \n",
      "=================================================================\n",
      "input_4 (InputLayer)         (None, 21)                0         \n",
      "_________________________________________________________________\n",
      "embedding_4 (Embedding)      (None, 21, 7)             1400      \n",
      "_________________________________________________________________\n",
      "gru_10 (GRU)                 (None, 21, 14)            924       \n",
      "_________________________________________________________________\n",
      "gru_11 (GRU)                 (None, 21, 28)            3612      \n",
      "_________________________________________________________________\n",
      "gru_12 (GRU)                 (None, 21, 56)            14280     \n",
      "_________________________________________________________________\n",
      "time_distributed_7 (TimeDist (None, 21, 545)           31065     \n",
      "_________________________________________________________________\n",
      "time_distributed_8 (TimeDist (None, 21, 345)           188370    \n",
      "=================================================================\n",
      "Total params: 239,651\n",
      "Trainable params: 239,651\n",
      "Non-trainable params: 0\n",
      "_________________________________________________________________\n",
      "Train on 110288 samples, validate on 27573 samples\n",
      "Epoch 1/100\n",
      "110288/110288 [==============================] - 22s - loss: 1.7938 - acc: 0.5827 - val_loss: 0.9267 - val_acc: 0.7410\n",
      "Epoch 2/100\n",
      "110288/110288 [==============================] - 22s - loss: 0.7863 - acc: 0.7698 - val_loss: 0.5804 - val_acc: 0.8226\n",
      "Epoch 3/100\n",
      "110288/110288 [==============================] - 22s - loss: 0.5749 - acc: 0.8243 - val_loss: 0.4865 - val_acc: 0.8461\n",
      "Epoch 4/100\n",
      "110288/110288 [==============================] - 22s - loss: 0.4934 - acc: 0.8448 - val_loss: 0.4243 - val_acc: 0.8621\n",
      "Epoch 5/100\n",
      "110288/110288 [==============================] - 22s - loss: 0.4507 - acc: 0.8562 - val_loss: 0.3926 - val_acc: 0.8758\n",
      "Epoch 6/100\n",
      "110288/110288 [==============================] - 22s - loss: 0.4204 - acc: 0.8651 - val_loss: 0.3586 - val_acc: 0.8822\n",
      "Epoch 7/100\n",
      "110288/110288 [==============================] - 22s - loss: 0.3950 - acc: 0.8720 - val_loss: 0.3505 - val_acc: 0.8845\n",
      "Epoch 8/100\n",
      "110288/110288 [==============================] - 22s - loss: 0.3857 - acc: 0.8748 - val_loss: 0.3392 - val_acc: 0.8888\n",
      "Epoch 9/100\n",
      "110288/110288 [==============================] - 22s - loss: 0.3733 - acc: 0.8785 - val_loss: 0.3333 - val_acc: 0.8898\n",
      "Epoch 10/100\n",
      "110288/110288 [==============================] - 22s - loss: 0.3625 - acc: 0.8815 - val_loss: 0.3276 - val_acc: 0.8905\n",
      "Epoch 11/100\n",
      "110288/110288 [==============================] - 22s - loss: 0.3557 - acc: 0.8832 - val_loss: 0.3118 - val_acc: 0.8949\n",
      "Epoch 12/100\n",
      "110288/110288 [==============================] - 22s - loss: 0.3504 - acc: 0.8849 - val_loss: 0.3130 - val_acc: 0.8938\n",
      "Epoch 13/100\n",
      "110288/110288 [==============================] - 22s - loss: 0.3418 - acc: 0.8875 - val_loss: 0.3062 - val_acc: 0.8980\n",
      "Epoch 14/100\n",
      "110288/110288 [==============================] - 22s - loss: 0.3428 - acc: 0.8869 - val_loss: 0.3053 - val_acc: 0.8976\n",
      "Epoch 15/100\n",
      "110288/110288 [==============================] - 22s - loss: 0.3342 - acc: 0.8893 - val_loss: 0.2942 - val_acc: 0.9018\n",
      "Epoch 16/100\n",
      "110288/110288 [==============================] - 22s - loss: 0.3325 - acc: 0.8899 - val_loss: 0.2922 - val_acc: 0.9029\n",
      "Epoch 17/100\n",
      "110288/110288 [==============================] - 22s - loss: 0.3266 - acc: 0.8916 - val_loss: 0.2915 - val_acc: 0.9026\n",
      "Epoch 18/100\n",
      "110288/110288 [==============================] - 22s - loss: 0.3219 - acc: 0.8930 - val_loss: 0.2859 - val_acc: 0.9042\n",
      "Epoch 19/100\n",
      "110288/110288 [==============================] - 22s - loss: 0.3189 - acc: 0.8936 - val_loss: 0.2773 - val_acc: 0.9054\n",
      "Epoch 20/100\n",
      "110288/110288 [==============================] - 22s - loss: 0.3200 - acc: 0.8933 - val_loss: 0.2938 - val_acc: 0.9028\n",
      "Epoch 21/100\n",
      "110288/110288 [==============================] - 22s - loss: 0.3233 - acc: 0.8927 - val_loss: 0.2808 - val_acc: 0.9024\n",
      "Epoch 22/100\n",
      "110288/110288 [==============================] - 22s - loss: 0.3134 - acc: 0.8949 - val_loss: 0.2802 - val_acc: 0.9061\n",
      "Epoch 23/100\n",
      "110288/110288 [==============================] - 22s - loss: 0.3176 - acc: 0.8942 - val_loss: 0.2811 - val_acc: 0.9054\n",
      "Epoch 24/100\n",
      "110288/110288 [==============================] - 22s - loss: 0.3102 - acc: 0.8966 - val_loss: 0.2825 - val_acc: 0.9051\n",
      "Epoch 25/100\n",
      "110288/110288 [==============================] - 22s - loss: 0.3062 - acc: 0.8976 - val_loss: 0.2763 - val_acc: 0.9076\n",
      "Epoch 26/100\n",
      "110288/110288 [==============================] - 22s - loss: 0.3108 - acc: 0.8966 - val_loss: 0.2735 - val_acc: 0.9079\n",
      "Epoch 27/100\n",
      "110288/110288 [==============================] - 22s - loss: 0.3032 - acc: 0.8985 - val_loss: 0.2744 - val_acc: 0.9080\n",
      "Epoch 28/100\n",
      "110288/110288 [==============================] - 22s - loss: 0.3041 - acc: 0.8985 - val_loss: 0.2761 - val_acc: 0.9067\n",
      "Epoch 29/100\n",
      "110288/110288 [==============================] - 22s - loss: 0.3041 - acc: 0.8987 - val_loss: 0.2670 - val_acc: 0.9110\n",
      "Epoch 30/100\n",
      "110288/110288 [==============================] - 22s - loss: 0.3038 - acc: 0.8985 - val_loss: 0.2684 - val_acc: 0.9103\n",
      "Epoch 31/100\n",
      "110288/110288 [==============================] - 22s - loss: 0.3047 - acc: 0.8984 - val_loss: 0.2830 - val_acc: 0.9040\n",
      "Epoch 32/100\n",
      "110288/110288 [==============================] - 22s - loss: 0.2978 - acc: 0.9006 - val_loss: 0.2777 - val_acc: 0.9078\n",
      "Epoch 33/100\n",
      "110288/110288 [==============================] - 22s - loss: 0.3010 - acc: 0.8993 - val_loss: 0.2683 - val_acc: 0.9103\n",
      "Epoch 34/100\n",
      "110288/110288 [==============================] - 22s - loss: 0.2971 - acc: 0.9008 - val_loss: 0.2660 - val_acc: 0.9100\n",
      "Epoch 35/100\n",
      "110288/110288 [==============================] - 22s - loss: 0.2975 - acc: 0.9005 - val_loss: 0.2667 - val_acc: 0.9107\n",
      "Epoch 36/100\n",
      "110288/110288 [==============================] - 22s - loss: 0.2952 - acc: 0.9010 - val_loss: 0.2708 - val_acc: 0.9095\n",
      "Epoch 37/100\n",
      "110288/110288 [==============================] - 22s - loss: 0.2931 - acc: 0.9016 - val_loss: 0.2632 - val_acc: 0.9115\n",
      "Epoch 38/100\n",
      "110288/110288 [==============================] - 22s - loss: 0.2996 - acc: 0.8998 - val_loss: 0.2650 - val_acc: 0.9112\n",
      "Epoch 39/100\n",
      "110288/110288 [==============================] - 22s - loss: 0.2938 - acc: 0.9016 - val_loss: 0.2623 - val_acc: 0.9122\n",
      "Epoch 40/100\n",
      "110288/110288 [==============================] - 22s - loss: 0.2965 - acc: 0.9010 - val_loss: 0.2719 - val_acc: 0.9069\n",
      "Epoch 41/100\n",
      "110288/110288 [==============================] - 22s - loss: 0.2911 - acc: 0.9023 - val_loss: 0.2549 - val_acc: 0.9141\n",
      "Epoch 42/100\n",
      "110288/110288 [==============================] - 22s - loss: 0.2935 - acc: 0.9016 - val_loss: 0.2604 - val_acc: 0.9132\n",
      "Epoch 43/100\n",
      "110288/110288 [==============================] - 22s - loss: 0.2904 - acc: 0.9026 - val_loss: 0.2652 - val_acc: 0.9100\n",
      "Epoch 44/100\n",
      "110288/110288 [==============================] - 22s - loss: 0.2902 - acc: 0.9028 - val_loss: 0.2652 - val_acc: 0.9119\n",
      "Epoch 45/100\n",
      "  6144/110288 [>.............................] - ETA: 19s - loss: 0.3052 - acc: 0.8974"
     ]
    }
   ],
   "source": [
    "from keras.layers.embeddings import Embedding\n",
    "\n",
    "\n",
    "def embed_model(input_shape, output_sequence_length, english_vocab_size, french_vocab_size):\n",
    "    \"\"\"\n",
    "    Build and train a RNN model using word embedding on x and y\n",
    "    :param input_shape: Tuple of input shape\n",
    "    :param output_sequence_length: Length of output sequence\n",
    "    :param english_vocab_size: Number of unique English words in the dataset\n",
    "    :param french_vocab_size: Number of unique French words in the dataset\n",
    "    :return: Keras model built, but not trained\n",
    "    \"\"\"\n",
    "    # TODO: Implement\n",
    "    \n",
    "    learning_rate = 0.01\n",
    "     \n",
    "    inputs = Input(shape=input_shape[1:])\n",
    "    embed = Embedding(english_vocab_size, int(input_shape[1]/3))(inputs)\n",
    "    gru0 = GRU(14, return_sequences=True, dropout=0.1)(embed)\n",
    "    gru1 = GRU(28, return_sequences=True, dropout=0.2)(gru0)\n",
    "    gru2 = GRU(56, return_sequences=True, dropout=0.4)(gru1)\n",
    "    dense0 = TimeDistributed(Dense(english_vocab_size + french_vocab_size, activation='tanh'))(gru2)\n",
    "    logits = TimeDistributed(Dense(french_vocab_size, activation='softmax'))(dense0)\n",
    "    model = Model(inputs=inputs, outputs=logits)\n",
    "    \n",
    "    model.compile(loss=sparse_categorical_crossentropy,\n",
    "                  optimizer=Adam(learning_rate),\n",
    "                  metrics=['accuracy'])\n",
    "    \n",
    "    return model\n",
    "tests.test_embed_model(embed_model)\n",
    "\n",
    "# TODO: Reshape the input\n",
    "tmp_x = pad(preproc_english_sentences, preproc_french_sentences.shape[1])\n",
    "# tmp_x = tmp_x.reshape((-1, preproc_french_sentences.shape[1]))\n",
    "\n",
    "# TODO: Train the neural network\n",
    "embed_rnn_model = embed_model(input_shape=tmp_x.shape,\n",
    "                              output_sequence_length=preproc_french_sentences[1],\n",
    "                              english_vocab_size=len(english_tokenizer.word_index) + 1,\n",
    "                              french_vocab_size=len(french_tokenizer.word_index) + 1)\n",
    "embed_rnn_model.summary()\n",
    "\n",
    "embed_rnn_model.fit(tmp_x, preproc_french_sentences, batch_size=512, epochs=100, validation_split=0.2)\n",
    "\n",
    "# TODO: Print prediction(s)\n",
    "print()\n",
    "print(logits_to_text(embed_rnn_model.predict(tmp_x[:1])[0], french_tokenizer))"
   ]
  },
  {
   "cell_type": "markdown",
   "metadata": {},
   "source": [
    "### Model 3: Bidirectional RNNs (IMPLEMENTATION)\n",
    "![RNN](images/bidirectional.png)\n",
    "One restriction of a RNN is that it can't see the future input, only the past.  This is where bidirectional recurrent neural networks come in.  They are able to see the future data."
   ]
  },
  {
   "cell_type": "code",
   "execution_count": null,
   "metadata": {
    "collapsed": true
   },
   "outputs": [],
   "source": [
    "from keras.layers import Bidirectional\n",
    "\n",
    "\n",
    "def bd_model(input_shape, output_sequence_length, english_vocab_size, french_vocab_size):\n",
    "    \"\"\"\n",
    "    Build and train a bidirectional RNN model on x and y\n",
    "    :param input_shape: Tuple of input shape\n",
    "    :param output_sequence_length: Length of output sequence\n",
    "    :param english_vocab_size: Number of unique English words in the dataset\n",
    "    :param french_vocab_size: Number of unique French words in the dataset\n",
    "    :return: Keras model built, but not trained\n",
    "    \"\"\"\n",
    "    # TODO: Implement\n",
    "    return None\n",
    "tests.test_bd_model(bd_model)\n",
    "\n",
    "\n",
    "# TODO: Train and Print prediction(s)"
   ]
  },
  {
   "cell_type": "markdown",
   "metadata": {},
   "source": [
    "### Model 4: Encoder-Decoder (OPTIONAL)\n",
    "Time to look at encoder-decoder models.  This model is made up of an encoder and decoder. The encoder creates a matrix representation of the sentence.  The decoder takes this matrix as input and predicts the translation as output.\n",
    "\n",
    "Create an encoder-decoder model in the cell below."
   ]
  },
  {
   "cell_type": "code",
   "execution_count": null,
   "metadata": {
    "collapsed": true
   },
   "outputs": [],
   "source": [
    "from keras.layers import RepeatVector\n",
    "\n",
    "\n",
    "def encdec_model(input_shape, output_sequence_length, english_vocab_size, french_vocab_size):\n",
    "    \"\"\"\n",
    "    Build and train an encoder-decoder model on x and y\n",
    "    :param input_shape: Tuple of input shape\n",
    "    :param output_sequence_length: Length of output sequence\n",
    "    :param english_vocab_size: Number of unique English words in the dataset\n",
    "    :param french_vocab_size: Number of unique French words in the dataset\n",
    "    :return: Keras model built, but not trained\n",
    "    \"\"\"\n",
    "    # OPTIONAL: Implement\n",
    "    return None\n",
    "tests.test_encdec_model(encdec_model)\n",
    "\n",
    "\n",
    "# OPTIONAL: Train and Print prediction(s)"
   ]
  },
  {
   "cell_type": "markdown",
   "metadata": {},
   "source": [
    "### Model 5: Custom (IMPLEMENTATION)\n",
    "Use everything you learned from the previous models to create a model that incorporates embedding and a bidirectional rnn into one model."
   ]
  },
  {
   "cell_type": "code",
   "execution_count": null,
   "metadata": {
    "collapsed": true
   },
   "outputs": [],
   "source": [
    "def model_final(input_shape, output_sequence_length, english_vocab_size, french_vocab_size):\n",
    "    \"\"\"\n",
    "    Build and train a model that incorporates embedding, encoder-decoder, and bidirectional RNN on x and y\n",
    "    :param input_shape: Tuple of input shape\n",
    "    :param output_sequence_length: Length of output sequence\n",
    "    :param english_vocab_size: Number of unique English words in the dataset\n",
    "    :param french_vocab_size: Number of unique French words in the dataset\n",
    "    :return: Keras model built, but not trained\n",
    "    \"\"\"\n",
    "    # TODO: Implement\n",
    "    return None\n",
    "tests.test_model_final(model_final)\n",
    "\n",
    "\n",
    "print('Final Model Loaded')"
   ]
  },
  {
   "cell_type": "markdown",
   "metadata": {},
   "source": [
    "## Prediction (IMPLEMENTATION)"
   ]
  },
  {
   "cell_type": "code",
   "execution_count": null,
   "metadata": {
    "collapsed": true
   },
   "outputs": [],
   "source": [
    "import numpy as np\n",
    "from keras.preprocessing.sequence import pad_sequences\n",
    "\n",
    "\n",
    "def final_predictions(x, y, x_tk, y_tk):\n",
    "    \"\"\"\n",
    "    Gets predictions using the final model\n",
    "    :param x: Preprocessed English data\n",
    "    :param y: Preprocessed French data\n",
    "    :param x_tk: English tokenizer\n",
    "    :param y_tk: French tokenizer\n",
    "    \"\"\"\n",
    "    # TODO: Train neural network using model_final\n",
    "    model = None\n",
    "\n",
    "    \n",
    "    ## DON'T EDIT ANYTHING BELOW THIS LINE\n",
    "    y_id_to_word = {value: key for key, value in y_tk.word_index.items()}\n",
    "    y_id_to_word[0] = '<PAD>'\n",
    "\n",
    "    sentence = 'he saw a old yellow truck'\n",
    "    sentence = [x_tk.word_index[word] for word in sentence.split()]\n",
    "    sentence = pad_sequences([sentence], maxlen=x.shape[-1], padding='post')\n",
    "    sentences = np.array([sentence[0], x[0]])\n",
    "    predictions = model.predict(sentences, len(sentences))\n",
    "\n",
    "    print('Sample 1:')\n",
    "    print(' '.join([y_id_to_word[np.argmax(x)] for x in predictions[0]]))\n",
    "    print('Il a vu un vieux camion jaune')\n",
    "    print('Sample 2:')\n",
    "    print(' '.join([y_id_to_word[np.argmax(x)] for x in predictions[1]]))\n",
    "    print(' '.join([y_id_to_word[np.argmax(x)] for x in y[0]]))\n",
    "\n",
    "\n",
    "final_predictions(preproc_english_sentences, preproc_french_sentences, english_tokenizer, french_tokenizer)"
   ]
  },
  {
   "cell_type": "markdown",
   "metadata": {},
   "source": [
    "## Submission\n",
    "When you are ready to submit your project, do the following steps:\n",
    "1. Ensure you pass all points on the [rubric](https://review.udacity.com/#!/rubrics/1004/view).\n",
    "2. Submit the following in a zip file.\n",
    "  - `helper.py`\n",
    "  - `machine_translation.ipynb`\n",
    "  - `machine_translation.html`\n",
    "    - You can export the notebook by navigating to **File -> Download as -> HTML (.html)**."
   ]
  }
 ],
 "metadata": {
  "kernelspec": {
   "display_name": "Python 3",
   "language": "python",
   "name": "python3"
  },
  "language_info": {
   "codemirror_mode": {
    "name": "ipython",
    "version": 3
   },
   "file_extension": ".py",
   "mimetype": "text/x-python",
   "name": "python",
   "nbconvert_exporter": "python",
   "pygments_lexer": "ipython3",
   "version": "3.5.4"
  }
 },
 "nbformat": 4,
 "nbformat_minor": 1
}
